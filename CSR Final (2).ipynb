{
 "cells": [
  {
   "cell_type": "code",
   "execution_count": 1,
   "id": "6fb21a1a",
   "metadata": {},
   "outputs": [],
   "source": [
    "import selenium\n",
    "from selenium import webdriver\n",
    "from selenium.webdriver import Chrome\n",
    "from selenium.webdriver.chrome.options import Options\n",
    "from selenium.webdriver.common.keys import Keys\n",
    "from selenium.common.exceptions import NoSuchElementException\n",
    "import pandas as pd\n",
    "import time\n",
    "from time import sleep\n",
    "from datetime import datetime,timedelta\n",
    "from selenium.webdriver.chrome.service import Service\n",
    "from selenium.webdriver.common.by import By\n",
    "import os"
   ]
  },
  {
   "cell_type": "code",
   "execution_count": 2,
   "id": "77bab483",
   "metadata": {},
   "outputs": [],
   "source": [
    "optns = webdriver.ChromeOptions()\n",
    "# p = {\"download.default_directory\":r\"C:\\Users\\lalchandanik\\OneDrive - Dun and Bradstreet\\Desktop\\CSR\"}\n",
    "# optns.add_experimental_option(\"prefs\", p)\n",
    "s = Service(r\"C:\\Users\\sawanta\\OneDrive - Dun and Bradstreet\\Desktop\\chromedriver.exe\")"
   ]
  },
  {
   "cell_type": "code",
   "execution_count": 6,
   "id": "55fc2a25",
   "metadata": {},
   "outputs": [
    {
     "data": {
      "text/plain": [
       "['BIOCHEMICAL AND SYNTHETIC PRODUCTS PRIVATE LIMITED',\n",
       " 'BHARTI ENTERPRISES (HOLDING) PRIVATE LIMITED',\n",
       " 'GREATWALL VANIJYA LTD',\n",
       " 'MARUTI ISPAT & ENERGY PRIVATE LIMITED',\n",
       " 'SAS HOTELS & ENTERPRISES LIMITED',\n",
       " 'KHIMJI-K.D.& SONS PRIVATE LIMITED',\n",
       " 'KINEXIN CONVENTION MANAGEMENT PRIVATE LIMITED',\n",
       " 'GVK TECHNICAL AND CONSULTANCY SERVICESPRIVATE LIMITED',\n",
       " 'NEHAL TRADING AND INVESTMENTS PRIVATELIMITED',\n",
       " 'GRI POWERGEAR TOWERS INDIA PRIVATELIMITED',\n",
       " 'BNP PARIBAS INDIA SOLUTIONS PRIVATE LIMITED',\n",
       " 'D-VOIS COMMUNICATIONS PRIVATE LIMITED',\n",
       " 'ADVANCED TECHNOLOGY CONSULTING SERVICEPRIVATE LIMITED',\n",
       " 'TELANGANA STATE POWER GENERATION CORPORATION LIMITED',\n",
       " 'HCL TRAINING & STAFFING SERVICES PRIVATE LIMITED',\n",
       " 'VISHNU & COMPANY TRADEMARKS PRIVATELIMITED',\n",
       " 'L&T INFRA INVESTMENT PARTNERS ADVISORYPRIVATE LIMITED',\n",
       " 'GHANASHYAM MISRA & SONS PVT LTD',\n",
       " 'PARK MEDICENTERS AND INSTITUTIONS PRIVATE LIMITED',\n",
       " 'SHRI MEHNDIPUR BALAJI ENTERPRISESPRIVATE LIMITED',\n",
       " 'GMR GENERATION ASSETS LIMITED',\n",
       " 'NEWA INVESTMENTS PRIVATE LIMITED',\n",
       " 'BELLA CASA FASHION & RETAIL LIMITED',\n",
       " 'COMPACT ADVERTISING & CREDIT PVT LTD',\n",
       " 'ANDROMEDA SALES AND DISTRIBUTION PRIVATE LIMITED']"
      ]
     },
     "execution_count": 6,
     "metadata": {},
     "output_type": "execute_result"
    }
   ],
   "source": [
    "# Excel sheet for company names\n",
    "# change the excel sheet path\n",
    "df = pd.read_excel(r\"C:\\Users\\sawanta\\OneDrive - Dun and Bradstreet\\Desktop\\Pending_Raj\\Raj_CSR pending.xlsx\") \n",
    "companies = df['Company_ab'].to_list()\n",
    "companies = companies[100:125] # alter the length according to your convenience\n",
    "companies"
   ]
  },
  {
   "cell_type": "code",
   "execution_count": null,
   "id": "4cb59c1e",
   "metadata": {},
   "outputs": [],
   "source": [
    "done = []\n",
    "pending  = []\n",
    "\n",
    "for i,j in enumerate(companies):\n",
    "    try:\n",
    "        driver = webdriver.Chrome(service=s)\n",
    "        driver.get('https://csr.gov.in/content/csr/global/master/home/ExploreCsrData/company-wise.html')\n",
    "        time.sleep(3)\n",
    "        company = j\n",
    "        input_name = driver.find_element('xpath',\"//input[@id='SearchBox']\")\n",
    "        input_name.send_keys(company)\n",
    "        time.sleep(10)\n",
    "        name = driver.find_element('xpath',\"(//td[@class='company'])[1]\")\n",
    "        name.click()\n",
    "#         count += 1\n",
    "#         print(count)\n",
    "        done.append(j)\n",
    "        time.sleep(10)\n",
    "        download_btn = driver.find_element('xpath', \"//span[@class='btn-download']\")\n",
    "        download_btn.click()\n",
    "    except:\n",
    "        pending.append(j)\n",
    "        driver.close()  #will close the window for which the file cannot be generated"
   ]
  },
  {
   "cell_type": "code",
   "execution_count": 5,
   "id": "84b9b746",
   "metadata": {},
   "outputs": [
    {
     "name": "stdout",
     "output_type": "stream",
     "text": [
      "['BIOCHEMICAL AND SYNTHETIC PRODUCTS PRIVATE LIMITED', 'BHARTI ENTERPRISES (HOLDING) PRIVATE LIMITED', 'GREATWALL VANIJYA LTD', 'MARUTI ISPAT & ENERGY PRIVATE LIMITED', 'SAS HOTELS & ENTERPRISES LIMITED', 'KHIMJI-K.D.& SONS PRIVATE LIMITED', 'KINEXIN CONVENTION MANAGEMENT PRIVATE LIMITED', 'GVK TECHNICAL AND CONSULTANCY SERVICESPRIVATE LIMITED', 'NEHAL TRADING AND INVESTMENTS PRIVATELIMITED', 'GRI POWERGEAR TOWERS INDIA PRIVATELIMITED', 'BNP PARIBAS INDIA SOLUTIONS PRIVATE LIMITED', 'D-VOIS COMMUNICATIONS PRIVATE LIMITED', 'ADVANCED TECHNOLOGY CONSULTING SERVICEPRIVATE LIMITED', 'TELANGANA STATE POWER GENERATION CORPORATION LIMITED', 'HCL TRAINING & STAFFING SERVICES PRIVATE LIMITED', 'VISHNU & COMPANY TRADEMARKS PRIVATELIMITED', 'L&T INFRA INVESTMENT PARTNERS ADVISORYPRIVATE LIMITED', 'GHANASHYAM MISRA & SONS PVT LTD', 'PARK MEDICENTERS AND INSTITUTIONS PRIVATE LIMITED', 'SHRI MEHNDIPUR BALAJI ENTERPRISESPRIVATE LIMITED', 'GMR GENERATION ASSETS LIMITED', 'NEWA INVESTMENTS PRIVATE LIMITED', 'BELLA CASA FASHION & RETAIL LIMITED', 'COMPACT ADVERTISING & CREDIT PVT LTD', 'ANDROMEDA SALES AND DISTRIBUTION PRIVATE LIMITED']\n"
     ]
    }
   ],
   "source": [
    "print(pending)"
   ]
  },
  {
   "cell_type": "code",
   "execution_count": 5,
   "id": "c3f73647",
   "metadata": {},
   "outputs": [],
   "source": [
    "#driver.quit()"
   ]
  },
  {
   "cell_type": "code",
   "execution_count": 6,
   "id": "01dbccbb",
   "metadata": {},
   "outputs": [],
   "source": [
    "#len(done)"
   ]
  },
  {
   "cell_type": "code",
   "execution_count": 39,
   "id": "16e03ab5",
   "metadata": {},
   "outputs": [],
   "source": [
    "# to create a list of pending companies\n",
    "company_df = pd.DataFrame()\n",
    "company_df['pending'] = pending\n",
    "os.chdir(r\"C:\\Users\\sawanta\\OneDrive - Dun and Bradstreet\\Desktop\\Pending_Raj\\Pending_files\")\n",
    "company_df.to_excel('new_list.xlsx')"
   ]
  },
  {
   "cell_type": "code",
   "execution_count": 41,
   "id": "0f429dd6",
   "metadata": {},
   "outputs": [
    {
     "name": "stderr",
     "output_type": "stream",
     "text": [
      "C:\\Users\\sawanta\\AppData\\Local\\Temp\\ipykernel_16016\\4092145638.py:7: FutureWarning: The frame.append method is deprecated and will be removed from pandas in a future version. Use pandas.concat instead.\n",
      "  df = df.append(pd.read_excel(file), ignore_index=True)\n",
      "C:\\Users\\sawanta\\AppData\\Local\\Temp\\ipykernel_16016\\4092145638.py:7: FutureWarning: The frame.append method is deprecated and will be removed from pandas in a future version. Use pandas.concat instead.\n",
      "  df = df.append(pd.read_excel(file), ignore_index=True)\n"
     ]
    }
   ],
   "source": [
    "# to combine the new list with master list for pending companies\n",
    "df = pd.DataFrame()\n",
    "files = os.listdir(r\"C:\\Users\\sawanta\\OneDrive - Dun and Bradstreet\\Desktop\\Pending_Raj\\Pending_files\")\n",
    "\n",
    "for file in files:\n",
    "    if file.endswith('.xlsx'):\n",
    "        df = df.append(pd.read_excel(file), ignore_index=True)  \n",
    "\n",
    "os.chdir(r\"C:\\Users\\sawanta\\OneDrive - Dun and Bradstreet\\Desktop\\Pending_Raj\\Pending_files\\master_pending.xlsx\")\n",
    "df.to_excel('master_pending.xlsx')"
   ]
  }
 ],
 "metadata": {
  "kernelspec": {
   "display_name": "Python 3 (ipykernel)",
   "language": "python",
   "name": "python3"
  },
  "language_info": {
   "codemirror_mode": {
    "name": "ipython",
    "version": 3
   },
   "file_extension": ".py",
   "mimetype": "text/x-python",
   "name": "python",
   "nbconvert_exporter": "python",
   "pygments_lexer": "ipython3",
   "version": "3.9.12"
  }
 },
 "nbformat": 4,
 "nbformat_minor": 5
}
