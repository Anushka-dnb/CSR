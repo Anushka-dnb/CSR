{
 "cells": [
  {
   "cell_type": "code",
   "execution_count": null,
   "id": "b66c3255",
   "metadata": {},
   "outputs": [],
   "source": [
    "import pandas as pd"
   ]
  },
  {
   "cell_type": "code",
   "execution_count": null,
   "id": "a0fd2a3c",
   "metadata": {},
   "outputs": [],
   "source": [
    "df1 = pd.read_csv(r\"C:\\Users\\sawanta\\Downloads\\CSR FY 2020-21_Consolidated10K_Report.csv\")\n",
    "len(df1)"
   ]
  },
  {
   "cell_type": "code",
   "execution_count": null,
   "id": "2713fb15",
   "metadata": {},
   "outputs": [],
   "source": [
    "df2 = pd.read_csv(r\"C:\\Users\\sawanta\\Downloads\\CSR FY 2020-21_Consolidated10K_Report.csv\")\n",
    "len(df2)"
   ]
  },
  {
   "cell_type": "code",
   "execution_count": null,
   "id": "56bdd63d",
   "metadata": {},
   "outputs": [],
   "source": [
    "df3 = pd.read_csv(r\"C:\\Users\\sawanta\\Downloads\\CSR FY 2020-21 Master5.csv\")\n",
    "len(df3)"
   ]
  },
  {
   "cell_type": "code",
   "execution_count": null,
   "id": "ccfdf35c",
   "metadata": {},
   "outputs": [],
   "source": [
    "train_df = pd.concat([df1, df2, df3], ignore_index=True)\n",
    "train_df"
   ]
  },
  {
   "cell_type": "code",
   "execution_count": null,
   "id": "94bcab9c",
   "metadata": {},
   "outputs": [],
   "source": [
    "train_df.shape()"
   ]
  },
  {
   "cell_type": "code",
   "execution_count": null,
   "id": "b3854a82",
   "metadata": {},
   "outputs": [],
   "source": []
  }
 ],
 "metadata": {
  "kernelspec": {
   "display_name": "Python 3 (ipykernel)",
   "language": "python",
   "name": "python3"
  },
  "language_info": {
   "codemirror_mode": {
    "name": "ipython",
    "version": 3
   },
   "file_extension": ".py",
   "mimetype": "text/x-python",
   "name": "python",
   "nbconvert_exporter": "python",
   "pygments_lexer": "ipython3",
   "version": "3.9.12"
  }
 },
 "nbformat": 4,
 "nbformat_minor": 5
}
